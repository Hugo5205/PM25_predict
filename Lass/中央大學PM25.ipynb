{
 "cells": [
  {
   "cell_type": "code",
   "execution_count": 155,
   "metadata": {},
   "outputs": [],
   "source": [
    "total = len(data1[\"feeds\"][0]['LASS4U'])\n",
    "timestamp = []\n",
    "data123 = []\n",
    "for i in range(total):\n",
    "    tmp = list(data1[\"feeds\"][0]['LASS4U'][i].keys())[0].split(':')[0]\n",
    "    if tmp not in timestamp:\n",
    "        timestamp.append(tmp)\n",
    "        data123.append(data1[\"feeds\"][0]['LASS4U'][i])\n"
   ]
  },
  {
   "cell_type": "code",
   "execution_count": 6,
   "metadata": {
    "scrolled": true
   },
   "outputs": [
    {
     "name": "stdout",
     "output_type": "stream",
     "text": [
      "2019-12-25\n",
      "<pymongo.results.InsertOneResult object at 0x0000026E040919C8>\n",
      "<pymongo.results.InsertOneResult object at 0x0000026E04037BC8>\n",
      "<pymongo.results.InsertOneResult object at 0x0000026E0536A1C8>\n",
      "<pymongo.results.InsertOneResult object at 0x0000026E03D75A08>\n",
      "<pymongo.results.InsertOneResult object at 0x0000026E0536A1C8>\n",
      "<pymongo.results.InsertOneResult object at 0x0000026E04091188>\n",
      "<pymongo.results.InsertOneResult object at 0x0000026E0536A1C8>\n",
      "<pymongo.results.InsertOneResult object at 0x0000026E03D75A08>\n",
      "<pymongo.results.InsertOneResult object at 0x0000026E04037BC8>\n",
      "<pymongo.results.InsertOneResult object at 0x0000026E0536A1C8>\n",
      "<pymongo.results.InsertOneResult object at 0x0000026E03D75A08>\n",
      "<pymongo.results.InsertOneResult object at 0x0000026E04037BC8>\n",
      "<pymongo.results.InsertOneResult object at 0x0000026E0536A1C8>\n",
      "<pymongo.results.InsertOneResult object at 0x0000026E03D75A08>\n",
      "<pymongo.results.InsertOneResult object at 0x0000026E04037BC8>\n",
      "<pymongo.results.InsertOneResult object at 0x0000026E03D75A08>\n",
      "<pymongo.results.InsertOneResult object at 0x0000026E04091348>\n",
      "<pymongo.results.InsertOneResult object at 0x0000026E040919C8>\n",
      "<pymongo.results.InsertOneResult object at 0x0000026E0536A1C8>\n",
      "<pymongo.results.InsertOneResult object at 0x0000026E03E37088>\n",
      "<pymongo.results.InsertOneResult object at 0x0000026E03E37248>\n",
      "<pymongo.results.InsertOneResult object at 0x0000026E03D75A08>\n",
      "<pymongo.results.InsertOneResult object at 0x0000026E040919C8>\n",
      "<pymongo.results.InsertOneResult object at 0x0000026E04091348>\n"
     ]
    }
   ],
   "source": [
    "import csv\n",
    "import json\n",
    "import sys, pymongo\n",
    "from urllib import request\n",
    "import datetime\n",
    "\n",
    "# 與 MongoDB連線\n",
    "client = pymongo.MongoClient(host=\"localhost\", port=27017)\n",
    "# 指定為 test 資料庫\n",
    "db = client.pm25\n",
    "# 指定 temp_humidity 集合, MongoDB的每個資料庫又包含許多集合(collection), 類似於關聯性資料庫中的表\n",
    "collection = db.pm25_2019\n",
    "\n",
    "# 用戶代理瀏覽器種類\n",
    "user_agent = 'Mozilla/5.0 (Windows NT 10.0; Win64; x64) AppleWebKit/537.36 (KHTML, like Gecko) Chrome/76.0.3809.132 ' \\\n",
    "             'Safari/537.36 '\n",
    "headers = {'User-Agent': user_agent}                                       # 請求網頁標頭，用字典型態存放\n",
    "\n",
    "t = \"2019-12-25\"\n",
    "#抓前一天的資料\n",
    "#times = datetime.datetime.now() + datetime.timedelta(days = -1)\n",
    "#t = times.strftime(\"%Y-%m-%d\")\n",
    "#t = datetime.datetime.now().strftime(\"%Y-%m-%d\")\n",
    "print(t)\n",
    "url = 'https://pm25.lass-net.org/data/history-date.php?device_id=FT2_0041&date=%s'%(t)  # 網址\n",
    "req = request.Request(url=url, headers=headers)                            # 請求內容\n",
    "res = request.urlopen(req)  # 打開網頁（此網頁內容即為json）\n",
    "jdata = res.read()          # 讀取網頁\n",
    "data1 = json.loads(jdata)   # 用json的loads方法儲存為json格式（此為dict物件），，並轉為data1物件\n",
    "\n",
    "total = len(data1[\"feeds\"][0]['LASS4U'])\n",
    "timestamp = []\n",
    "data = []\n",
    "for i in range(total):\n",
    "    tmp = list(data1[\"feeds\"][0]['LASS4U'][i].keys())[0].split(':')[0]\n",
    "    if tmp not in timestamp:\n",
    "        timestamp.append(tmp)\n",
    "        data.append(data1[\"feeds\"][0]['LASS4U'][i])\n",
    "\n",
    "        \n",
    "for j in range(len(data)):        \n",
    "    data24 = list(data[j].values())[0]\n",
    "    json = {\"device_id\": data24[\"device_id\"],\"date\": data24[\"date\"],\"time\": data24[\"time\"],\"timestamp\": data24[\"timestamp\"], \"PM25\": data24[\"s_d0\"],\"Temperature\": data24[\"s_t2\"], \"Humidity\": data24[\"s_h2\"]}\n",
    "    #print(json)\n",
    "    # 將資料存入 mongodb\n",
    "    # 存入單筆\n",
    "    result = collection.insert_one(json)\n",
    "    # 存入多筆\n",
    "    #result = collection.insert_many()\n",
    "    print(result)\n",
    "    "
   ]
  },
  {
   "cell_type": "code",
   "execution_count": 49,
   "metadata": {},
   "outputs": [
    {
     "name": "stdout",
     "output_type": "stream",
     "text": [
      "2019-12-13\n"
     ]
    }
   ],
   "source": [
    "t = datetime.datetime.now() + datetime.timedelta(days = -1)\n",
    "print(t.strftime(\"%Y-%m-%d\"))"
   ]
  },
  {
   "cell_type": "code",
   "execution_count": 8,
   "metadata": {},
   "outputs": [
    {
     "name": "stdout",
     "output_type": "stream",
     "text": [
      "2019-12-16\n",
      "{'device_id': 'FT2_0041', 'date': '2019-12-16', 'time': '00:00:14', 'timestamp': '2019-12-16T00:00:14Z', 'PM25': 29.0, 'Temperature': 21.48, 'Humidity': 68.41}\n",
      "{'device_id': 'FT2_0041', 'date': '2019-12-16', 'time': '01:00:19', 'timestamp': '2019-12-16T01:00:19Z', 'PM25': 22.0, 'Temperature': 22.18, 'Humidity': 69.33}\n",
      "{'device_id': 'FT2_0041', 'date': '2019-12-16', 'time': '02:00:04', 'timestamp': '2019-12-16T02:00:04Z', 'PM25': 28.0, 'Temperature': 22.53, 'Humidity': 69.05}\n",
      "{'device_id': 'FT2_0041', 'date': '2019-12-16', 'time': '03:00:06', 'timestamp': '2019-12-16T03:00:06Z', 'PM25': 21.0, 'Temperature': 22.86, 'Humidity': 68.19}\n",
      "{'device_id': 'FT2_0041', 'date': '2019-12-16', 'time': '04:00:08', 'timestamp': '2019-12-16T04:00:08Z', 'PM25': 16.0, 'Temperature': 22.77, 'Humidity': 68.95}\n",
      "{'device_id': 'FT2_0041', 'date': '2019-12-16', 'time': '05:00:05', 'timestamp': '2019-12-16T05:00:05Z', 'PM25': 17.0, 'Temperature': 22.82, 'Humidity': 67.4}\n",
      "{'device_id': 'FT2_0041', 'date': '2019-12-16', 'time': '06:00:11', 'timestamp': '2019-12-16T06:00:11Z', 'PM25': 16.0, 'Temperature': 22.6, 'Humidity': 70.38}\n",
      "{'device_id': 'FT2_0041', 'date': '2019-12-16', 'time': '07:00:32', 'timestamp': '2019-12-16T07:00:32Z', 'PM25': 33.0, 'Temperature': 23.29, 'Humidity': 70.32}\n",
      "{'device_id': 'FT2_0041', 'date': '2019-12-16', 'time': '08:00:40', 'timestamp': '2019-12-16T08:00:40Z', 'PM25': 35.0, 'Temperature': 23.57, 'Humidity': 70.23}\n",
      "{'device_id': 'FT2_0041', 'date': '2019-12-16', 'time': '09:00:43', 'timestamp': '2019-12-16T09:00:43Z', 'PM25': 34.0, 'Temperature': 23.46, 'Humidity': 71.08}\n",
      "{'device_id': 'FT2_0041', 'date': '2019-12-16', 'time': '10:00:52', 'timestamp': '2019-12-16T10:00:52Z', 'PM25': 42.0, 'Temperature': 23.49, 'Humidity': 71.28}\n",
      "{'device_id': 'FT2_0041', 'date': '2019-12-16', 'time': '11:00:00', 'timestamp': '2019-12-16T11:00:00Z', 'PM25': 53.0, 'Temperature': 23.31, 'Humidity': 71.55}\n",
      "{'device_id': 'FT2_0041', 'date': '2019-12-16', 'time': '12:00:07', 'timestamp': '2019-12-16T12:00:07Z', 'PM25': 55.0, 'Temperature': 22.98, 'Humidity': 71.87}\n",
      "{'device_id': 'FT2_0041', 'date': '2019-12-16', 'time': '13:00:09', 'timestamp': '2019-12-16T13:00:09Z', 'PM25': 55.0, 'Temperature': 22.82, 'Humidity': 71.84}\n",
      "{'device_id': 'FT2_0041', 'date': '2019-12-16', 'time': '14:00:13', 'timestamp': '2019-12-16T14:00:13Z', 'PM25': 55.0, 'Temperature': 22.73, 'Humidity': 71.64}\n",
      "{'device_id': 'FT2_0041', 'date': '2019-12-16', 'time': '15:00:16', 'timestamp': '2019-12-16T15:00:16Z', 'PM25': 50.0, 'Temperature': 22.66, 'Humidity': 71.03}\n",
      "{'device_id': 'FT2_0041', 'date': '2019-12-16', 'time': '16:00:25', 'timestamp': '2019-12-16T16:00:25Z', 'PM25': 42.0, 'Temperature': 22.63, 'Humidity': 70.63}\n",
      "{'device_id': 'FT2_0041', 'date': '2019-12-16', 'time': '17:00:29', 'timestamp': '2019-12-16T17:00:29Z', 'PM25': 36.0, 'Temperature': 22.56, 'Humidity': 69.94}\n",
      "{'device_id': 'FT2_0041', 'date': '2019-12-16', 'time': '18:00:34', 'timestamp': '2019-12-16T18:00:34Z', 'PM25': 29.0, 'Temperature': 22.45, 'Humidity': 69.49}\n",
      "{'device_id': 'FT2_0041', 'date': '2019-12-16', 'time': '19:00:36', 'timestamp': '2019-12-16T19:00:36Z', 'PM25': 29.0, 'Temperature': 22.38, 'Humidity': 69.18}\n",
      "{'device_id': 'FT2_0041', 'date': '2019-12-16', 'time': '20:00:38', 'timestamp': '2019-12-16T20:00:38Z', 'PM25': 35.0, 'Temperature': 22.31, 'Humidity': 69.13}\n",
      "{'device_id': 'FT2_0041', 'date': '2019-12-16', 'time': '21:00:16', 'timestamp': '2019-12-16T21:00:16Z', 'PM25': 28.0, 'Temperature': 22.28, 'Humidity': 68.92}\n",
      "{'device_id': 'FT2_0041', 'date': '2019-12-16', 'time': '22:00:22', 'timestamp': '2019-12-16T22:00:22Z', 'PM25': 33.0, 'Temperature': 22.24, 'Humidity': 68.81}\n",
      "{'device_id': 'FT2_0041', 'date': '2019-12-16', 'time': '23:00:37', 'timestamp': '2019-12-16T23:00:37Z', 'PM25': 37.0, 'Temperature': 22.17, 'Humidity': 69.21}\n"
     ]
    }
   ],
   "source": [
    "import csv\n",
    "import json\n",
    "import sys, pymongo ,pymysql\n",
    "from urllib import request\n",
    "import datetime\n",
    "\n",
    "\n",
    "#與MySQL建立連線\n",
    "conn = pymysql.connect(host='localhost',port=3306,user='root',password='123456',db='pm25')\n",
    "cursor = conn.cursor()\n",
    "\n",
    "\n",
    "# 用戶代理瀏覽器種類\n",
    "user_agent = 'Mozilla/5.0 (Windows NT 10.0; Win64; x64) AppleWebKit/537.36 (KHTML, like Gecko) Chrome/76.0.3809.132 ' \\\n",
    "             'Safari/537.36 '\n",
    "headers = {'User-Agent': user_agent}                                       # 請求網頁標頭，用字典型態存放\n",
    "\n",
    "t = \"2019-12-16\"\n",
    "#抓前一天的資料\n",
    "#times = datetime.datetime.now() + datetime.timedelta(days = -1)\n",
    "#t = times.strftime(\"%Y-%m-%d\")\n",
    "print(t)\n",
    "url = 'https://pm25.lass-net.org/data/history-date.php?device_id=FT2_0041&date=%s'%(t)  # 網址\n",
    "req = request.Request(url=url, headers=headers)                            # 請求內容\n",
    "res = request.urlopen(req)  # 打開網頁（此網頁內容即為json）\n",
    "jdata = res.read()          # 讀取網頁\n",
    "data1 = json.loads(jdata)   # 用json的loads方法儲存為json格式（此為dict物件），，並轉為data1物件\n",
    "\n",
    "total = len(data1[\"feeds\"][0]['LASS4U'])\n",
    "timestamp = []\n",
    "data = []\n",
    "for i in range(total):\n",
    "    tmp = list(data1[\"feeds\"][0]['LASS4U'][i].keys())[0].split(':')[0]\n",
    "    if tmp not in timestamp:\n",
    "        timestamp.append(tmp)\n",
    "        data.append(data1[\"feeds\"][0]['LASS4U'][i])\n",
    "\n",
    "        \n",
    "for j in range(len(data)):        \n",
    "    data24 = list(data[j].values())[0]\n",
    "    json = {\"device_id\": data24[\"device_id\"],\"date\": data24[\"date\"],\"time\": data24[\"time\"],\"timestamp\": data24[\"timestamp\"], \"PM25\": data24[\"s_d0\"],\"Temperature\": data24[\"s_t2\"], \"Humidity\": data24[\"s_h2\"]}\n",
    "    print(json)\n",
    "    cursor.execute(\"INSERT INTO pm25_2019(timestamp,date,time,device_id,Temperature,Humidity,PM25) VALUES('{0}','{1}','{2}','{3}','{4}','{5}','{6}');\".format(data24[\"timestamp\"],data24[\"date\"],data24[\"time\"],data24[\"device_id\"],data24[\"s_t2\"],data24[\"s_h2\"],data24[\"s_d0\"]))\n",
    "    conn.commit()\n",
    "    \n",
    "cursor.close() \n",
    "conn.close()"
   ]
  },
  {
   "cell_type": "code",
   "execution_count": 111,
   "metadata": {},
   "outputs": [],
   "source": [
    "times = datetime.datetime.now() + datetime.timedelta(days = -1)\n",
    "t = times.strftime(\"%Y-%m-%d\")"
   ]
  },
  {
   "cell_type": "code",
   "execution_count": 112,
   "metadata": {},
   "outputs": [
    {
     "name": "stdout",
     "output_type": "stream",
     "text": [
      "2019-12-14\n"
     ]
    }
   ],
   "source": [
    "print(t)"
   ]
  },
  {
   "cell_type": "code",
   "execution_count": 124,
   "metadata": {},
   "outputs": [
    {
     "data": {
      "text/plain": [
       "datetime.datetime(2019, 12, 22, 9, 0, 0, 729289)"
      ]
     },
     "execution_count": 124,
     "metadata": {},
     "output_type": "execute_result"
    }
   ],
   "source": [
    "datetime.datetime.now()"
   ]
  },
  {
   "cell_type": "code",
   "execution_count": 126,
   "metadata": {},
   "outputs": [
    {
     "ename": "InternalError",
     "evalue": "(1130, \"Host '192.168.0.111' is not allowed to connect to this MySQL server\")",
     "output_type": "error",
     "traceback": [
      "\u001b[1;31m---------------------------------------------------------------------------\u001b[0m",
      "\u001b[1;31mInternalError\u001b[0m                             Traceback (most recent call last)",
      "\u001b[1;32m<ipython-input-126-61cb56d0d14e>\u001b[0m in \u001b[0;36m<module>\u001b[1;34m\u001b[0m\n\u001b[0;32m      7\u001b[0m \u001b[1;33m\u001b[0m\u001b[0m\n\u001b[0;32m      8\u001b[0m \u001b[1;31m#與MySQL建立連線\u001b[0m\u001b[1;33m\u001b[0m\u001b[1;33m\u001b[0m\u001b[1;33m\u001b[0m\u001b[0m\n\u001b[1;32m----> 9\u001b[1;33m \u001b[0mconn\u001b[0m \u001b[1;33m=\u001b[0m \u001b[0mpymysql\u001b[0m\u001b[1;33m.\u001b[0m\u001b[0mconnect\u001b[0m\u001b[1;33m(\u001b[0m\u001b[0mhost\u001b[0m\u001b[1;33m=\u001b[0m\u001b[1;34m'192.168.0.110'\u001b[0m\u001b[1;33m,\u001b[0m\u001b[0mport\u001b[0m\u001b[1;33m=\u001b[0m\u001b[1;36m3306\u001b[0m\u001b[1;33m,\u001b[0m\u001b[0muser\u001b[0m\u001b[1;33m=\u001b[0m\u001b[1;34m'dbuser'\u001b[0m\u001b[1;33m,\u001b[0m\u001b[0mpassword\u001b[0m\u001b[1;33m=\u001b[0m\u001b[1;34m'aabb1234'\u001b[0m\u001b[1;33m,\u001b[0m\u001b[0mdb\u001b[0m\u001b[1;33m=\u001b[0m\u001b[1;34m'my_pm25_db'\u001b[0m\u001b[1;33m)\u001b[0m\u001b[1;33m\u001b[0m\u001b[1;33m\u001b[0m\u001b[0m\n\u001b[0m\u001b[0;32m     10\u001b[0m \u001b[0mcursor\u001b[0m \u001b[1;33m=\u001b[0m \u001b[0mconn\u001b[0m\u001b[1;33m.\u001b[0m\u001b[0mcursor\u001b[0m\u001b[1;33m(\u001b[0m\u001b[1;33m)\u001b[0m\u001b[1;33m\u001b[0m\u001b[1;33m\u001b[0m\u001b[0m\n",
      "\u001b[1;32m~\\Anaconda3\\lib\\site-packages\\pymysql\\__init__.py\u001b[0m in \u001b[0;36mConnect\u001b[1;34m(*args, **kwargs)\u001b[0m\n\u001b[0;32m     92\u001b[0m     \"\"\"\n\u001b[0;32m     93\u001b[0m     \u001b[1;32mfrom\u001b[0m \u001b[1;33m.\u001b[0m\u001b[0mconnections\u001b[0m \u001b[1;32mimport\u001b[0m \u001b[0mConnection\u001b[0m\u001b[1;33m\u001b[0m\u001b[1;33m\u001b[0m\u001b[0m\n\u001b[1;32m---> 94\u001b[1;33m     \u001b[1;32mreturn\u001b[0m \u001b[0mConnection\u001b[0m\u001b[1;33m(\u001b[0m\u001b[1;33m*\u001b[0m\u001b[0margs\u001b[0m\u001b[1;33m,\u001b[0m \u001b[1;33m**\u001b[0m\u001b[0mkwargs\u001b[0m\u001b[1;33m)\u001b[0m\u001b[1;33m\u001b[0m\u001b[1;33m\u001b[0m\u001b[0m\n\u001b[0m\u001b[0;32m     95\u001b[0m \u001b[1;33m\u001b[0m\u001b[0m\n\u001b[0;32m     96\u001b[0m \u001b[1;32mfrom\u001b[0m \u001b[1;33m.\u001b[0m \u001b[1;32mimport\u001b[0m \u001b[0mconnections\u001b[0m \u001b[1;32mas\u001b[0m \u001b[0m_orig_conn\u001b[0m\u001b[1;33m\u001b[0m\u001b[1;33m\u001b[0m\u001b[0m\n",
      "\u001b[1;32m~\\Anaconda3\\lib\\site-packages\\pymysql\\connections.py\u001b[0m in \u001b[0;36m__init__\u001b[1;34m(self, host, user, password, database, port, unix_socket, charset, sql_mode, read_default_file, conv, use_unicode, client_flag, cursorclass, init_command, connect_timeout, ssl, read_default_group, compress, named_pipe, autocommit, db, passwd, local_infile, max_allowed_packet, defer_connect, auth_plugin_map, read_timeout, write_timeout, bind_address, binary_prefix, program_name, server_public_key)\u001b[0m\n\u001b[0;32m    323\u001b[0m             \u001b[0mself\u001b[0m\u001b[1;33m.\u001b[0m\u001b[0m_sock\u001b[0m \u001b[1;33m=\u001b[0m \u001b[1;32mNone\u001b[0m\u001b[1;33m\u001b[0m\u001b[1;33m\u001b[0m\u001b[0m\n\u001b[0;32m    324\u001b[0m         \u001b[1;32melse\u001b[0m\u001b[1;33m:\u001b[0m\u001b[1;33m\u001b[0m\u001b[1;33m\u001b[0m\u001b[0m\n\u001b[1;32m--> 325\u001b[1;33m             \u001b[0mself\u001b[0m\u001b[1;33m.\u001b[0m\u001b[0mconnect\u001b[0m\u001b[1;33m(\u001b[0m\u001b[1;33m)\u001b[0m\u001b[1;33m\u001b[0m\u001b[1;33m\u001b[0m\u001b[0m\n\u001b[0m\u001b[0;32m    326\u001b[0m \u001b[1;33m\u001b[0m\u001b[0m\n\u001b[0;32m    327\u001b[0m     \u001b[1;32mdef\u001b[0m \u001b[0m_create_ssl_ctx\u001b[0m\u001b[1;33m(\u001b[0m\u001b[0mself\u001b[0m\u001b[1;33m,\u001b[0m \u001b[0msslp\u001b[0m\u001b[1;33m)\u001b[0m\u001b[1;33m:\u001b[0m\u001b[1;33m\u001b[0m\u001b[1;33m\u001b[0m\u001b[0m\n",
      "\u001b[1;32m~\\Anaconda3\\lib\\site-packages\\pymysql\\connections.py\u001b[0m in \u001b[0;36mconnect\u001b[1;34m(self, sock)\u001b[0m\n\u001b[0;32m    596\u001b[0m             \u001b[0mself\u001b[0m\u001b[1;33m.\u001b[0m\u001b[0m_next_seq_id\u001b[0m \u001b[1;33m=\u001b[0m \u001b[1;36m0\u001b[0m\u001b[1;33m\u001b[0m\u001b[1;33m\u001b[0m\u001b[0m\n\u001b[0;32m    597\u001b[0m \u001b[1;33m\u001b[0m\u001b[0m\n\u001b[1;32m--> 598\u001b[1;33m             \u001b[0mself\u001b[0m\u001b[1;33m.\u001b[0m\u001b[0m_get_server_information\u001b[0m\u001b[1;33m(\u001b[0m\u001b[1;33m)\u001b[0m\u001b[1;33m\u001b[0m\u001b[1;33m\u001b[0m\u001b[0m\n\u001b[0m\u001b[0;32m    599\u001b[0m             \u001b[0mself\u001b[0m\u001b[1;33m.\u001b[0m\u001b[0m_request_authentication\u001b[0m\u001b[1;33m(\u001b[0m\u001b[1;33m)\u001b[0m\u001b[1;33m\u001b[0m\u001b[1;33m\u001b[0m\u001b[0m\n\u001b[0;32m    600\u001b[0m \u001b[1;33m\u001b[0m\u001b[0m\n",
      "\u001b[1;32m~\\Anaconda3\\lib\\site-packages\\pymysql\\connections.py\u001b[0m in \u001b[0;36m_get_server_information\u001b[1;34m(self)\u001b[0m\n\u001b[0;32m    973\u001b[0m     \u001b[1;32mdef\u001b[0m \u001b[0m_get_server_information\u001b[0m\u001b[1;33m(\u001b[0m\u001b[0mself\u001b[0m\u001b[1;33m)\u001b[0m\u001b[1;33m:\u001b[0m\u001b[1;33m\u001b[0m\u001b[1;33m\u001b[0m\u001b[0m\n\u001b[0;32m    974\u001b[0m         \u001b[0mi\u001b[0m \u001b[1;33m=\u001b[0m \u001b[1;36m0\u001b[0m\u001b[1;33m\u001b[0m\u001b[1;33m\u001b[0m\u001b[0m\n\u001b[1;32m--> 975\u001b[1;33m         \u001b[0mpacket\u001b[0m \u001b[1;33m=\u001b[0m \u001b[0mself\u001b[0m\u001b[1;33m.\u001b[0m\u001b[0m_read_packet\u001b[0m\u001b[1;33m(\u001b[0m\u001b[1;33m)\u001b[0m\u001b[1;33m\u001b[0m\u001b[1;33m\u001b[0m\u001b[0m\n\u001b[0m\u001b[0;32m    976\u001b[0m         \u001b[0mdata\u001b[0m \u001b[1;33m=\u001b[0m \u001b[0mpacket\u001b[0m\u001b[1;33m.\u001b[0m\u001b[0mget_all_data\u001b[0m\u001b[1;33m(\u001b[0m\u001b[1;33m)\u001b[0m\u001b[1;33m\u001b[0m\u001b[1;33m\u001b[0m\u001b[0m\n\u001b[0;32m    977\u001b[0m \u001b[1;33m\u001b[0m\u001b[0m\n",
      "\u001b[1;32m~\\Anaconda3\\lib\\site-packages\\pymysql\\connections.py\u001b[0m in \u001b[0;36m_read_packet\u001b[1;34m(self, packet_type)\u001b[0m\n\u001b[0;32m    682\u001b[0m \u001b[1;33m\u001b[0m\u001b[0m\n\u001b[0;32m    683\u001b[0m         \u001b[0mpacket\u001b[0m \u001b[1;33m=\u001b[0m \u001b[0mpacket_type\u001b[0m\u001b[1;33m(\u001b[0m\u001b[0mbuff\u001b[0m\u001b[1;33m,\u001b[0m \u001b[0mself\u001b[0m\u001b[1;33m.\u001b[0m\u001b[0mencoding\u001b[0m\u001b[1;33m)\u001b[0m\u001b[1;33m\u001b[0m\u001b[1;33m\u001b[0m\u001b[0m\n\u001b[1;32m--> 684\u001b[1;33m         \u001b[0mpacket\u001b[0m\u001b[1;33m.\u001b[0m\u001b[0mcheck_error\u001b[0m\u001b[1;33m(\u001b[0m\u001b[1;33m)\u001b[0m\u001b[1;33m\u001b[0m\u001b[1;33m\u001b[0m\u001b[0m\n\u001b[0m\u001b[0;32m    685\u001b[0m         \u001b[1;32mreturn\u001b[0m \u001b[0mpacket\u001b[0m\u001b[1;33m\u001b[0m\u001b[1;33m\u001b[0m\u001b[0m\n\u001b[0;32m    686\u001b[0m \u001b[1;33m\u001b[0m\u001b[0m\n",
      "\u001b[1;32m~\\Anaconda3\\lib\\site-packages\\pymysql\\protocol.py\u001b[0m in \u001b[0;36mcheck_error\u001b[1;34m(self)\u001b[0m\n\u001b[0;32m    218\u001b[0m             \u001b[0merrno\u001b[0m \u001b[1;33m=\u001b[0m \u001b[0mself\u001b[0m\u001b[1;33m.\u001b[0m\u001b[0mread_uint16\u001b[0m\u001b[1;33m(\u001b[0m\u001b[1;33m)\u001b[0m\u001b[1;33m\u001b[0m\u001b[1;33m\u001b[0m\u001b[0m\n\u001b[0;32m    219\u001b[0m             \u001b[1;32mif\u001b[0m \u001b[0mDEBUG\u001b[0m\u001b[1;33m:\u001b[0m \u001b[0mprint\u001b[0m\u001b[1;33m(\u001b[0m\u001b[1;34m\"errno =\"\u001b[0m\u001b[1;33m,\u001b[0m \u001b[0merrno\u001b[0m\u001b[1;33m)\u001b[0m\u001b[1;33m\u001b[0m\u001b[1;33m\u001b[0m\u001b[0m\n\u001b[1;32m--> 220\u001b[1;33m             \u001b[0merr\u001b[0m\u001b[1;33m.\u001b[0m\u001b[0mraise_mysql_exception\u001b[0m\u001b[1;33m(\u001b[0m\u001b[0mself\u001b[0m\u001b[1;33m.\u001b[0m\u001b[0m_data\u001b[0m\u001b[1;33m)\u001b[0m\u001b[1;33m\u001b[0m\u001b[1;33m\u001b[0m\u001b[0m\n\u001b[0m\u001b[0;32m    221\u001b[0m \u001b[1;33m\u001b[0m\u001b[0m\n\u001b[0;32m    222\u001b[0m     \u001b[1;32mdef\u001b[0m \u001b[0mdump\u001b[0m\u001b[1;33m(\u001b[0m\u001b[0mself\u001b[0m\u001b[1;33m)\u001b[0m\u001b[1;33m:\u001b[0m\u001b[1;33m\u001b[0m\u001b[1;33m\u001b[0m\u001b[0m\n",
      "\u001b[1;32m~\\Anaconda3\\lib\\site-packages\\pymysql\\err.py\u001b[0m in \u001b[0;36mraise_mysql_exception\u001b[1;34m(data)\u001b[0m\n\u001b[0;32m    107\u001b[0m         \u001b[0merrval\u001b[0m \u001b[1;33m=\u001b[0m \u001b[0mdata\u001b[0m\u001b[1;33m[\u001b[0m\u001b[1;36m3\u001b[0m\u001b[1;33m:\u001b[0m\u001b[1;33m]\u001b[0m\u001b[1;33m.\u001b[0m\u001b[0mdecode\u001b[0m\u001b[1;33m(\u001b[0m\u001b[1;34m'utf-8'\u001b[0m\u001b[1;33m,\u001b[0m \u001b[1;34m'replace'\u001b[0m\u001b[1;33m)\u001b[0m\u001b[1;33m\u001b[0m\u001b[1;33m\u001b[0m\u001b[0m\n\u001b[0;32m    108\u001b[0m     \u001b[0merrorclass\u001b[0m \u001b[1;33m=\u001b[0m \u001b[0merror_map\u001b[0m\u001b[1;33m.\u001b[0m\u001b[0mget\u001b[0m\u001b[1;33m(\u001b[0m\u001b[0merrno\u001b[0m\u001b[1;33m,\u001b[0m \u001b[0mInternalError\u001b[0m\u001b[1;33m)\u001b[0m\u001b[1;33m\u001b[0m\u001b[1;33m\u001b[0m\u001b[0m\n\u001b[1;32m--> 109\u001b[1;33m     \u001b[1;32mraise\u001b[0m \u001b[0merrorclass\u001b[0m\u001b[1;33m(\u001b[0m\u001b[0merrno\u001b[0m\u001b[1;33m,\u001b[0m \u001b[0merrval\u001b[0m\u001b[1;33m)\u001b[0m\u001b[1;33m\u001b[0m\u001b[1;33m\u001b[0m\u001b[0m\n\u001b[0m",
      "\u001b[1;31mInternalError\u001b[0m: (1130, \"Host '192.168.0.111' is not allowed to connect to this MySQL server\")"
     ]
    }
   ],
   "source": [
    "import csv\n",
    "import json\n",
    "import sys, pymongo ,pymysql\n",
    "from urllib import request\n",
    "import datetime\n",
    "\n",
    "\n",
    "#與MySQL建立連線\n",
    "conn = pymysql.connect(host='192.168.0.110',port=3306,user='dbuser',password='aabb1234',db='my_pm25_db')\n",
    "cursor = conn.cursor()"
   ]
  },
  {
   "cell_type": "code",
   "execution_count": null,
   "metadata": {},
   "outputs": [],
   "source": []
  }
 ],
 "metadata": {
  "kernelspec": {
   "display_name": "Python 3",
   "language": "python",
   "name": "python3"
  },
  "language_info": {
   "codemirror_mode": {
    "name": "ipython",
    "version": 3
   },
   "file_extension": ".py",
   "mimetype": "text/x-python",
   "name": "python",
   "nbconvert_exporter": "python",
   "pygments_lexer": "ipython3",
   "version": "3.7.3"
  }
 },
 "nbformat": 4,
 "nbformat_minor": 2
}
