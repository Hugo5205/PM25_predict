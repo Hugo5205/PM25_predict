{
 "cells": [
  {
   "cell_type": "code",
   "execution_count": 53,
   "metadata": {},
   "outputs": [],
   "source": [
    "import csv\n",
    "import json\n",
    "import sys, pymysql\n",
    "import pandas as pd\n",
    "\n",
    "#與MySQL建立連線\n",
    "conn = pymysql.connect(host='localhost',port=3306,user='root',password='123456',db='pm25')\n",
    "cursor = conn.cursor()\n",
    "try:\n",
    "    sql_str=\"select * from pm25_2019\"\n",
    "    cursor.execute(sql_str)\n",
    "    result = cursor.fetchall()\n",
    "    l = len(result)\n",
    "    list_data = []\n",
    "    for i in range(5):\n",
    "        for row in result:\n",
    "            list_row = list(row)\n",
    "            list_data.append(list_row)\n",
    "except:\n",
    "    print('unable to fetch data from db')\n",
    "\n",
    "cursor.close()\n",
    "conn.close() \n",
    "\n",
    "df = pd.DataFrame(list_data,columns=['timestamp','date','time','device_id','Temperature','Humidity','PM25'])\n",
    "df['PM25'] = df['PM25'].astype(int)\n",
    "df['Temperature'] = df['Temperature'].astype(float)\n",
    "df['Humidity'] = df['Humidity'].astype(float)\n",
    "df[\"hour\"] = df['time'].astype(str).str.split(':',expand = True)[0].str.split(' ',expand = True)[2].astype(int)\n",
    "#print(list_data)\n",
    "\n",
    "data = pd.DataFrame(df,columns=['hour', 'Temperature', 'Humidity', 'PM25'])\n",
    "X_train = data.iloc[:5000,0:3]\n",
    "y_train = data.iloc[:5000,3]\n",
    "X_test = data.iloc[5000:5355,0:3]\n",
    "y_test = data.iloc[5000:5355,3]"
   ]
  },
  {
   "cell_type": "code",
   "execution_count": 26,
   "metadata": {
    "collapsed": true
   },
   "outputs": [
    {
     "data": {
      "text/html": [
       "<div>\n",
       "<style scoped>\n",
       "    .dataframe tbody tr th:only-of-type {\n",
       "        vertical-align: middle;\n",
       "    }\n",
       "\n",
       "    .dataframe tbody tr th {\n",
       "        vertical-align: top;\n",
       "    }\n",
       "\n",
       "    .dataframe thead th {\n",
       "        text-align: right;\n",
       "    }\n",
       "</style>\n",
       "<table border=\"1\" class=\"dataframe\">\n",
       "  <thead>\n",
       "    <tr style=\"text-align: right;\">\n",
       "      <th></th>\n",
       "      <th>hour</th>\n",
       "      <th>Temperature</th>\n",
       "      <th>Humidity</th>\n",
       "    </tr>\n",
       "  </thead>\n",
       "  <tbody>\n",
       "    <tr>\n",
       "      <th>0</th>\n",
       "      <td>9</td>\n",
       "      <td>24.74</td>\n",
       "      <td>65.89</td>\n",
       "    </tr>\n",
       "    <tr>\n",
       "      <th>1</th>\n",
       "      <td>10</td>\n",
       "      <td>24.66</td>\n",
       "      <td>66.01</td>\n",
       "    </tr>\n",
       "    <tr>\n",
       "      <th>2</th>\n",
       "      <td>11</td>\n",
       "      <td>24.62</td>\n",
       "      <td>64.62</td>\n",
       "    </tr>\n",
       "    <tr>\n",
       "      <th>3</th>\n",
       "      <td>12</td>\n",
       "      <td>24.27</td>\n",
       "      <td>64.53</td>\n",
       "    </tr>\n",
       "    <tr>\n",
       "      <th>4</th>\n",
       "      <td>13</td>\n",
       "      <td>24.11</td>\n",
       "      <td>65.08</td>\n",
       "    </tr>\n",
       "    <tr>\n",
       "      <th>5</th>\n",
       "      <td>14</td>\n",
       "      <td>24.01</td>\n",
       "      <td>65.89</td>\n",
       "    </tr>\n",
       "    <tr>\n",
       "      <th>6</th>\n",
       "      <td>15</td>\n",
       "      <td>24.00</td>\n",
       "      <td>67.02</td>\n",
       "    </tr>\n",
       "    <tr>\n",
       "      <th>7</th>\n",
       "      <td>16</td>\n",
       "      <td>23.97</td>\n",
       "      <td>67.13</td>\n",
       "    </tr>\n",
       "    <tr>\n",
       "      <th>8</th>\n",
       "      <td>17</td>\n",
       "      <td>23.99</td>\n",
       "      <td>67.83</td>\n",
       "    </tr>\n",
       "    <tr>\n",
       "      <th>9</th>\n",
       "      <td>18</td>\n",
       "      <td>23.91</td>\n",
       "      <td>68.99</td>\n",
       "    </tr>\n",
       "    <tr>\n",
       "      <th>10</th>\n",
       "      <td>19</td>\n",
       "      <td>23.81</td>\n",
       "      <td>69.53</td>\n",
       "    </tr>\n",
       "    <tr>\n",
       "      <th>11</th>\n",
       "      <td>20</td>\n",
       "      <td>23.77</td>\n",
       "      <td>70.44</td>\n",
       "    </tr>\n",
       "    <tr>\n",
       "      <th>12</th>\n",
       "      <td>21</td>\n",
       "      <td>23.66</td>\n",
       "      <td>70.08</td>\n",
       "    </tr>\n",
       "    <tr>\n",
       "      <th>13</th>\n",
       "      <td>22</td>\n",
       "      <td>23.60</td>\n",
       "      <td>70.51</td>\n",
       "    </tr>\n",
       "    <tr>\n",
       "      <th>14</th>\n",
       "      <td>23</td>\n",
       "      <td>23.50</td>\n",
       "      <td>70.65</td>\n",
       "    </tr>\n",
       "    <tr>\n",
       "      <th>15</th>\n",
       "      <td>0</td>\n",
       "      <td>23.45</td>\n",
       "      <td>70.95</td>\n",
       "    </tr>\n",
       "    <tr>\n",
       "      <th>16</th>\n",
       "      <td>1</td>\n",
       "      <td>23.08</td>\n",
       "      <td>73.92</td>\n",
       "    </tr>\n",
       "    <tr>\n",
       "      <th>17</th>\n",
       "      <td>2</td>\n",
       "      <td>23.95</td>\n",
       "      <td>71.26</td>\n",
       "    </tr>\n",
       "    <tr>\n",
       "      <th>18</th>\n",
       "      <td>3</td>\n",
       "      <td>24.21</td>\n",
       "      <td>69.37</td>\n",
       "    </tr>\n",
       "    <tr>\n",
       "      <th>19</th>\n",
       "      <td>4</td>\n",
       "      <td>24.06</td>\n",
       "      <td>69.68</td>\n",
       "    </tr>\n",
       "    <tr>\n",
       "      <th>20</th>\n",
       "      <td>5</td>\n",
       "      <td>24.53</td>\n",
       "      <td>68.61</td>\n",
       "    </tr>\n",
       "    <tr>\n",
       "      <th>21</th>\n",
       "      <td>6</td>\n",
       "      <td>24.40</td>\n",
       "      <td>66.86</td>\n",
       "    </tr>\n",
       "    <tr>\n",
       "      <th>22</th>\n",
       "      <td>7</td>\n",
       "      <td>24.28</td>\n",
       "      <td>67.29</td>\n",
       "    </tr>\n",
       "    <tr>\n",
       "      <th>23</th>\n",
       "      <td>8</td>\n",
       "      <td>23.29</td>\n",
       "      <td>70.46</td>\n",
       "    </tr>\n",
       "    <tr>\n",
       "      <th>24</th>\n",
       "      <td>9</td>\n",
       "      <td>23.94</td>\n",
       "      <td>67.42</td>\n",
       "    </tr>\n",
       "    <tr>\n",
       "      <th>25</th>\n",
       "      <td>10</td>\n",
       "      <td>23.62</td>\n",
       "      <td>67.49</td>\n",
       "    </tr>\n",
       "    <tr>\n",
       "      <th>26</th>\n",
       "      <td>11</td>\n",
       "      <td>24.25</td>\n",
       "      <td>65.09</td>\n",
       "    </tr>\n",
       "    <tr>\n",
       "      <th>27</th>\n",
       "      <td>12</td>\n",
       "      <td>24.11</td>\n",
       "      <td>64.35</td>\n",
       "    </tr>\n",
       "    <tr>\n",
       "      <th>28</th>\n",
       "      <td>13</td>\n",
       "      <td>23.94</td>\n",
       "      <td>64.27</td>\n",
       "    </tr>\n",
       "    <tr>\n",
       "      <th>29</th>\n",
       "      <td>14</td>\n",
       "      <td>23.87</td>\n",
       "      <td>64.04</td>\n",
       "    </tr>\n",
       "    <tr>\n",
       "      <th>...</th>\n",
       "      <td>...</td>\n",
       "      <td>...</td>\n",
       "      <td>...</td>\n",
       "    </tr>\n",
       "    <tr>\n",
       "      <th>4970</th>\n",
       "      <td>23</td>\n",
       "      <td>23.22</td>\n",
       "      <td>74.31</td>\n",
       "    </tr>\n",
       "    <tr>\n",
       "      <th>4971</th>\n",
       "      <td>0</td>\n",
       "      <td>23.37</td>\n",
       "      <td>73.75</td>\n",
       "    </tr>\n",
       "    <tr>\n",
       "      <th>4972</th>\n",
       "      <td>1</td>\n",
       "      <td>23.05</td>\n",
       "      <td>77.17</td>\n",
       "    </tr>\n",
       "    <tr>\n",
       "      <th>4973</th>\n",
       "      <td>2</td>\n",
       "      <td>23.22</td>\n",
       "      <td>75.69</td>\n",
       "    </tr>\n",
       "    <tr>\n",
       "      <th>4974</th>\n",
       "      <td>3</td>\n",
       "      <td>23.25</td>\n",
       "      <td>76.06</td>\n",
       "    </tr>\n",
       "    <tr>\n",
       "      <th>4975</th>\n",
       "      <td>4</td>\n",
       "      <td>23.77</td>\n",
       "      <td>74.54</td>\n",
       "    </tr>\n",
       "    <tr>\n",
       "      <th>4976</th>\n",
       "      <td>5</td>\n",
       "      <td>23.77</td>\n",
       "      <td>74.25</td>\n",
       "    </tr>\n",
       "    <tr>\n",
       "      <th>4977</th>\n",
       "      <td>6</td>\n",
       "      <td>23.66</td>\n",
       "      <td>74.38</td>\n",
       "    </tr>\n",
       "    <tr>\n",
       "      <th>4978</th>\n",
       "      <td>7</td>\n",
       "      <td>23.53</td>\n",
       "      <td>74.72</td>\n",
       "    </tr>\n",
       "    <tr>\n",
       "      <th>4979</th>\n",
       "      <td>8</td>\n",
       "      <td>23.72</td>\n",
       "      <td>73.94</td>\n",
       "    </tr>\n",
       "    <tr>\n",
       "      <th>4980</th>\n",
       "      <td>9</td>\n",
       "      <td>23.95</td>\n",
       "      <td>72.65</td>\n",
       "    </tr>\n",
       "    <tr>\n",
       "      <th>4981</th>\n",
       "      <td>10</td>\n",
       "      <td>24.00</td>\n",
       "      <td>71.82</td>\n",
       "    </tr>\n",
       "    <tr>\n",
       "      <th>4982</th>\n",
       "      <td>11</td>\n",
       "      <td>23.79</td>\n",
       "      <td>70.80</td>\n",
       "    </tr>\n",
       "    <tr>\n",
       "      <th>4983</th>\n",
       "      <td>12</td>\n",
       "      <td>23.25</td>\n",
       "      <td>71.31</td>\n",
       "    </tr>\n",
       "    <tr>\n",
       "      <th>4984</th>\n",
       "      <td>13</td>\n",
       "      <td>23.00</td>\n",
       "      <td>71.04</td>\n",
       "    </tr>\n",
       "    <tr>\n",
       "      <th>4985</th>\n",
       "      <td>14</td>\n",
       "      <td>22.82</td>\n",
       "      <td>70.49</td>\n",
       "    </tr>\n",
       "    <tr>\n",
       "      <th>4986</th>\n",
       "      <td>15</td>\n",
       "      <td>22.69</td>\n",
       "      <td>69.82</td>\n",
       "    </tr>\n",
       "    <tr>\n",
       "      <th>4987</th>\n",
       "      <td>16</td>\n",
       "      <td>22.55</td>\n",
       "      <td>69.35</td>\n",
       "    </tr>\n",
       "    <tr>\n",
       "      <th>4988</th>\n",
       "      <td>17</td>\n",
       "      <td>22.46</td>\n",
       "      <td>69.28</td>\n",
       "    </tr>\n",
       "    <tr>\n",
       "      <th>4989</th>\n",
       "      <td>18</td>\n",
       "      <td>22.36</td>\n",
       "      <td>68.75</td>\n",
       "    </tr>\n",
       "    <tr>\n",
       "      <th>4990</th>\n",
       "      <td>19</td>\n",
       "      <td>22.25</td>\n",
       "      <td>68.53</td>\n",
       "    </tr>\n",
       "    <tr>\n",
       "      <th>4991</th>\n",
       "      <td>20</td>\n",
       "      <td>22.14</td>\n",
       "      <td>68.07</td>\n",
       "    </tr>\n",
       "    <tr>\n",
       "      <th>4992</th>\n",
       "      <td>21</td>\n",
       "      <td>22.05</td>\n",
       "      <td>67.97</td>\n",
       "    </tr>\n",
       "    <tr>\n",
       "      <th>4993</th>\n",
       "      <td>22</td>\n",
       "      <td>21.97</td>\n",
       "      <td>68.05</td>\n",
       "    </tr>\n",
       "    <tr>\n",
       "      <th>4994</th>\n",
       "      <td>23</td>\n",
       "      <td>21.91</td>\n",
       "      <td>67.89</td>\n",
       "    </tr>\n",
       "    <tr>\n",
       "      <th>4995</th>\n",
       "      <td>0</td>\n",
       "      <td>21.95</td>\n",
       "      <td>68.10</td>\n",
       "    </tr>\n",
       "    <tr>\n",
       "      <th>4996</th>\n",
       "      <td>1</td>\n",
       "      <td>22.18</td>\n",
       "      <td>67.49</td>\n",
       "    </tr>\n",
       "    <tr>\n",
       "      <th>4997</th>\n",
       "      <td>2</td>\n",
       "      <td>22.50</td>\n",
       "      <td>66.92</td>\n",
       "    </tr>\n",
       "    <tr>\n",
       "      <th>4998</th>\n",
       "      <td>3</td>\n",
       "      <td>22.48</td>\n",
       "      <td>66.17</td>\n",
       "    </tr>\n",
       "    <tr>\n",
       "      <th>4999</th>\n",
       "      <td>4</td>\n",
       "      <td>22.39</td>\n",
       "      <td>67.36</td>\n",
       "    </tr>\n",
       "  </tbody>\n",
       "</table>\n",
       "<p>5000 rows × 3 columns</p>\n",
       "</div>"
      ],
      "text/plain": [
       "      hour  Temperature  Humidity\n",
       "0        9        24.74     65.89\n",
       "1       10        24.66     66.01\n",
       "2       11        24.62     64.62\n",
       "3       12        24.27     64.53\n",
       "4       13        24.11     65.08\n",
       "5       14        24.01     65.89\n",
       "6       15        24.00     67.02\n",
       "7       16        23.97     67.13\n",
       "8       17        23.99     67.83\n",
       "9       18        23.91     68.99\n",
       "10      19        23.81     69.53\n",
       "11      20        23.77     70.44\n",
       "12      21        23.66     70.08\n",
       "13      22        23.60     70.51\n",
       "14      23        23.50     70.65\n",
       "15       0        23.45     70.95\n",
       "16       1        23.08     73.92\n",
       "17       2        23.95     71.26\n",
       "18       3        24.21     69.37\n",
       "19       4        24.06     69.68\n",
       "20       5        24.53     68.61\n",
       "21       6        24.40     66.86\n",
       "22       7        24.28     67.29\n",
       "23       8        23.29     70.46\n",
       "24       9        23.94     67.42\n",
       "25      10        23.62     67.49\n",
       "26      11        24.25     65.09\n",
       "27      12        24.11     64.35\n",
       "28      13        23.94     64.27\n",
       "29      14        23.87     64.04\n",
       "...    ...          ...       ...\n",
       "4970    23        23.22     74.31\n",
       "4971     0        23.37     73.75\n",
       "4972     1        23.05     77.17\n",
       "4973     2        23.22     75.69\n",
       "4974     3        23.25     76.06\n",
       "4975     4        23.77     74.54\n",
       "4976     5        23.77     74.25\n",
       "4977     6        23.66     74.38\n",
       "4978     7        23.53     74.72\n",
       "4979     8        23.72     73.94\n",
       "4980     9        23.95     72.65\n",
       "4981    10        24.00     71.82\n",
       "4982    11        23.79     70.80\n",
       "4983    12        23.25     71.31\n",
       "4984    13        23.00     71.04\n",
       "4985    14        22.82     70.49\n",
       "4986    15        22.69     69.82\n",
       "4987    16        22.55     69.35\n",
       "4988    17        22.46     69.28\n",
       "4989    18        22.36     68.75\n",
       "4990    19        22.25     68.53\n",
       "4991    20        22.14     68.07\n",
       "4992    21        22.05     67.97\n",
       "4993    22        21.97     68.05\n",
       "4994    23        21.91     67.89\n",
       "4995     0        21.95     68.10\n",
       "4996     1        22.18     67.49\n",
       "4997     2        22.50     66.92\n",
       "4998     3        22.48     66.17\n",
       "4999     4        22.39     67.36\n",
       "\n",
       "[5000 rows x 3 columns]"
      ]
     },
     "execution_count": 26,
     "metadata": {},
     "output_type": "execute_result"
    }
   ],
   "source": [
    "X_train = data.iloc[:5355,0:3]\n",
    "y_train = data.iloc[:5355,3]"
   ]
  },
  {
   "cell_type": "code",
   "execution_count": 27,
   "metadata": {},
   "outputs": [
    {
     "ename": "NameError",
     "evalue": "name 'feature_range' is not defined",
     "output_type": "error",
     "traceback": [
      "\u001b[1;31m---------------------------------------------------------------------------\u001b[0m",
      "\u001b[1;31mNameError\u001b[0m                                 Traceback (most recent call last)",
      "\u001b[1;32m<ipython-input-27-ffe1179fec32>\u001b[0m in \u001b[0;36m<module>\u001b[1;34m\u001b[0m\n\u001b[0;32m      2\u001b[0m \u001b[1;31m#data_X = preprocessing.scale(X) #正規化數據\u001b[0m\u001b[1;33m\u001b[0m\u001b[1;33m\u001b[0m\u001b[1;33m\u001b[0m\u001b[0m\n\u001b[0;32m      3\u001b[0m \u001b[1;31m#把數據壓縮至0~1\u001b[0m\u001b[1;33m\u001b[0m\u001b[1;33m\u001b[0m\u001b[1;33m\u001b[0m\u001b[0m\n\u001b[1;32m----> 4\u001b[1;33m \u001b[0mdata_X\u001b[0m \u001b[1;33m=\u001b[0m \u001b[0mpreprocessing\u001b[0m\u001b[1;33m.\u001b[0m\u001b[0mminmax_scale\u001b[0m\u001b[1;33m(\u001b[0m\u001b[0mX_train\u001b[0m\u001b[1;33m,\u001b[0m \u001b[0mfeature_range\u001b[0m\u001b[1;33m(\u001b[0m\u001b[1;36m0\u001b[0m\u001b[1;33m,\u001b[0m\u001b[1;36m1\u001b[0m\u001b[1;33m)\u001b[0m\u001b[1;33m)\u001b[0m\u001b[1;33m\u001b[0m\u001b[1;33m\u001b[0m\u001b[0m\n\u001b[0m",
      "\u001b[1;31mNameError\u001b[0m: name 'feature_range' is not defined"
     ]
    }
   ],
   "source": [
    "from sklearn import preprocessing\n",
    "#data_X = preprocessing.scale(X) #正規化數據\n",
    "#把數據壓縮至0~1\n",
    "data_X = preprocessing.minmax_scale(X_train, feature_range(0,1)) "
   ]
  },
  {
   "cell_type": "code",
   "execution_count": null,
   "metadata": {},
   "outputs": [],
   "source": [
    "#決策數訓練 (最佳值)\n",
    "from sklearn.tree import DecisionTreeClassifier\n",
    "\n",
    "clf = DecisionTreeClassifier(min_samples_split=11)\n",
    "clf.fit(X_train, y_train)\n",
    "train_score = clf.score(X_train, y_train)\n",
    "test_score = clf.score(X_test, y_test)\n",
    "print('train score: {0}; test score: {1}'.format(train_score, test_score))"
   ]
  },
  {
   "cell_type": "code",
   "execution_count": 2,
   "metadata": {},
   "outputs": [
    {
     "name": "stdout",
     "output_type": "stream",
     "text": [
      "train score: 0.0796; test score: 0.0647887323943662\n"
     ]
    }
   ],
   "source": [
    "from sklearn.tree import DecisionTreeClassifier\n",
    "\n",
    "#criterion使用entropy來計算訊息增益 \n",
    "#max_depth是指樹狀圖的最大深度\n",
    "clf=DecisionTreeClassifier(max_depth=2,criterion='entropy')\n",
    "clf.fit(X_train, y_train)\n",
    "train_score = clf.score(X_train, y_train)\n",
    "test_score = clf.score(X_test, y_test)\n",
    "print('train score: {0}; test score: {1}'.format(train_score, test_score))"
   ]
  },
  {
   "cell_type": "code",
   "execution_count": 14,
   "metadata": {},
   "outputs": [
    {
     "name": "stdout",
     "output_type": "stream",
     "text": [
      "train score: 0.7348182437817056; test score: 0.8585794359784467\n"
     ]
    }
   ],
   "source": [
    "from sklearn.tree import DecisionTreeRegressor\n",
    "\n",
    "model=DecisionTreeRegressor(max_depth=10)\n",
    "model.fit(X_train, y_train)\n",
    "\n",
    "train_score = model.score(X_train, y_train)\n",
    "test_score = model.score(X_test, y_test)\n",
    "print('train score: {0}; test score: {1}'.format(train_score, test_score))"
   ]
  },
  {
   "cell_type": "code",
   "execution_count": 15,
   "metadata": {
    "scrolled": true
   },
   "outputs": [
    {
     "name": "stderr",
     "output_type": "stream",
     "text": [
      "C:\\Users\\Big data\\Anaconda3\\lib\\site-packages\\sklearn\\externals\\joblib\\__init__.py:15: DeprecationWarning: sklearn.externals.joblib is deprecated in 0.21 and will be removed in 0.23. Please import this functionality directly from joblib, which can be installed with: pip install joblib. If this warning is raised when loading pickled models, you may need to re-serialize those models with scikit-learn 0.21+.\n",
      "  warnings.warn(msg, category=DeprecationWarning)\n"
     ]
    },
    {
     "data": {
      "text/plain": [
       "['./DecisionTreeRegressor.pkl']"
      ]
     },
     "execution_count": 15,
     "metadata": {},
     "output_type": "execute_result"
    }
   ],
   "source": [
    "#儲存模型\n",
    "from sklearn.externals import joblib\n",
    "joblib.dump(clf,\"./DecisionTreeRegressor.pkl\")"
   ]
  },
  {
   "cell_type": "code",
   "execution_count": 80,
   "metadata": {},
   "outputs": [
    {
     "name": "stdout",
     "output_type": "stream",
     "text": [
      "[ 6  6  6  6  6  6  6  6  6 13 13 13 13 13 13 13 13 13 13 13 13 13 13 13\n",
      " 13 13 13  6  6  6  6  6  6  6  6  6  6  6  6  6  6  6 13  6 13  6  6  6\n",
      "  6  6  6  6  6  6  6  6  6  6  6  6  6  6  6  6  6  6  6  6  6  6  6  6\n",
      "  6  6  6  6  6  6  6  6  6  6  6 13 13 13 13 13 13 13 13 13 13 13 13  6\n",
      " 13 13 13 13 13 13  6  6  6  6  6 13 13 13 13 13 13 13 13 13 13 13  6  6\n",
      " 13 13 13 13 13 13 13 13 13 13 13 13 13  6  6  6  6  6  6  6  6  6  6  6\n",
      "  6  6  6  6  6  6  6  6  6  6  6  6  6  6  6  6  6  6  6  6  6  6  6  6\n",
      "  6  6  6  6  6  6  6  6  6  6  6  6  6  6  6  6  6  6  6  6  6  6  6  6\n",
      "  6  6  6  6  6  6  6  6  6  6  6  6  6  6  6  6  6  6  6  6  1  6  6  6\n",
      "  6  6  6  6  6  6  6  1  1  1  1  1  1  1  1  1  1  1  1  1  1  1 13 13\n",
      " 13  1  1  1  1  1  1  1  1  1  1  1  1  1  1  1  1  1  1  1  1  1  1  1\n",
      "  1  1  6  6  6  6  6  6  6  6  6  6  6  6  6  6  6  6  6  6  6  6  6  6\n",
      "  6  6  6  6  6  6  6  6  6  6  6  6  6  6  6  6  6  6  6  6  6  6  6  6\n",
      "  6  6  6  6  6  6  6  6  6  6  6  6  6  6  6  6  6  6  6  6  6  6  6  6\n",
      "  6  6  6  6  6  6  6  6  6 13 13 13 13 13 13 13 13 13 13]\n"
     ]
    }
   ],
   "source": [
    "from sklearn.externals import joblib\n",
    "\n",
    "#读取Model\n",
    "model = joblib.load('./DecisionTreeRegressor.pkl')\n",
    "\n",
    "#测试读取后的Model\n",
    "print(model.predict(X_test))"
   ]
  },
  {
   "cell_type": "code",
   "execution_count": 83,
   "metadata": {},
   "outputs": [
    {
     "name": "stderr",
     "output_type": "stream",
     "text": [
      "C:\\Users\\Big data\\Anaconda3\\lib\\site-packages\\ipykernel_launcher.py:12: RuntimeWarning: divide by zero encountered in long_scalars\n",
      "  if sys.path[0] == '':\n"
     ]
    },
    {
     "data": {
      "text/plain": [
       "64.64661850448186"
      ]
     },
     "execution_count": 83,
     "metadata": {},
     "output_type": "execute_result"
    }
   ],
   "source": [
    "#模型評分\n",
    "import numpy as np\n",
    "#from sklearn.utils import check_arrays\n",
    "\n",
    "true = np.asarray(y_test)\n",
    "pred = model.predict(X_test)\n",
    "\n",
    "aList = []\n",
    "def mean_absolute_percentage_error(y_true, y_pred): \n",
    "    #y_true, y_pred = check_arrays(y_true, y_pred)\n",
    "    y_true, y_pred = np.array(y_true), np.array(y_pred)\n",
    "    return np.mean(np.abs((y_true - y_pred) / y_true)) * 100\n",
    "\n",
    "for i in range(len(true)-1):\n",
    "    a = mean_absolute_percentage_error(true[i+1], pred[i])\n",
    "    if a > 1000:\n",
    "        a = 0;\n",
    "    aList.append(a)\n",
    "\n",
    "mean(aList)"
   ]
  },
  {
   "cell_type": "code",
   "execution_count": 6,
   "metadata": {},
   "outputs": [],
   "source": [
    "#參數選擇max_depth\n",
    "def cv_score(d):\n",
    "    clf = DecisionTreeRegressor(max_depth=d)\n",
    "    clf.fit(X_train, y_train)\n",
    "    tr_score = clf.score(X_train, y_train)\n",
    "    cv_score = clf.score(X_test, y_test)\n",
    "    return (tr_score, cv_score)"
   ]
  },
  {
   "cell_type": "code",
   "execution_count": 8,
   "metadata": {},
   "outputs": [
    {
     "name": "stdout",
     "output_type": "stream",
     "text": [
      "best_param:20; best_score:1.000000\n"
     ]
    }
   ],
   "source": [
    "#交叉驗證最佳參數\n",
    "import numpy as np\n",
    "depths = range(1, 25)\n",
    "scores = [cv_score(d) for d in depths]\n",
    "tr_scores = [s[0] for s in scores]\n",
    "cv_scores = [s[1] for s in scores]\n",
    "\n",
    "best_score_index = np.argmax(cv_scores)\n",
    "best_score = cv_scores[best_score_index]\n",
    "best_param = depths[best_score_index]\n",
    "print('best_param:%d; best_score:%.6f'%(best_param,best_score))"
   ]
  },
  {
   "cell_type": "code",
   "execution_count": 12,
   "metadata": {},
   "outputs": [
    {
     "data": {
      "text/plain": [
       "[-0.0014969904635486753,\n",
       " 0.06993513421939856,\n",
       " 0.20600919204422352,\n",
       " 0.33729616904309523,\n",
       " 0.41589239377230425,\n",
       " 0.4721800823585832,\n",
       " 0.6186269655551231,\n",
       " 0.6969871372476479,\n",
       " 0.7899950839609515,\n",
       " 0.8583258070809996,\n",
       " 0.8957827571563476,\n",
       " 0.9372970547731919,\n",
       " 0.9769843532097289,\n",
       " 0.9893836915786595,\n",
       " 0.9949967283270034,\n",
       " 0.9977459281117154,\n",
       " 0.9987789743246444,\n",
       " 0.9999634790385715,\n",
       " 0.9999950559669114,\n",
       " 1.0,\n",
       " 1.0,\n",
       " 1.0,\n",
       " 1.0,\n",
       " 1.0]"
      ]
     },
     "execution_count": 12,
     "metadata": {},
     "output_type": "execute_result"
    }
   ],
   "source": [
    "cv_scores"
   ]
  },
  {
   "cell_type": "code",
   "execution_count": 11,
   "metadata": {},
   "outputs": [
    {
     "data": {
      "text/plain": [
       "<matplotlib.legend.Legend at 0x263711a8128>"
      ]
     },
     "execution_count": 11,
     "metadata": {},
     "output_type": "execute_result"
    },
    {
     "data": {
      "image/png": "[encoded data removed]",
      "text/plain": [
       "<Figure size 864x576 with 1 Axes>"
      ]
     },
     "metadata": {
      "needs_background": "light"
     },
     "output_type": "display_data"
    }
   ],
   "source": [
    "#畫圖\n",
    "import matplotlib.pyplot as plt\n",
    "plt.figure(figsize=(6,4), dpi=144)\n",
    "plt.grid()\n",
    "plt.xlabel('max depth of decision tree')\n",
    "plt.ylabel('score')\n",
    "plt.plot(depths, cv_scores, '.g-', label='cv_score')\n",
    "plt.plot(depths, cv_scores, '.r--', label='train_score')\n",
    "plt.legend()"
   ]
  },
  {
   "cell_type": "code",
   "execution_count": null,
   "metadata": {},
   "outputs": [],
   "source": [
    "plt.figure(figsize=(6,4), dpi=144)\n",
    "plt.grid()\n",
    "plt.xlabel('min samples of decision tree')\n",
    "plt.ylabel('score')\n",
    "plt.plot(values, cv_scores, '.g-', label='cv_score')\n",
    "plt.plot(values, cv_scores, '.r--', label='train_score')\n",
    "plt.legend()"
   ]
  },
  {
   "cell_type": "code",
   "execution_count": 25,
   "metadata": {},
   "outputs": [
    {
     "data": {
      "text/plain": [
       "['./RandomForestClassifier.pkl']"
      ]
     },
     "execution_count": 25,
     "metadata": {},
     "output_type": "execute_result"
    }
   ],
   "source": [
    "from sklearn.ensemble import RandomForestClassifier\n",
    "from sklearn import metrics\n",
    "\n",
    "model = RandomForestClassifier(n_estimators=3)\n",
    "model.fit(X_train, y_train)\n",
    "#儲存模型\n",
    "from sklearn.externals import joblib\n",
    "joblib.dump(clf,\"./RandomForestClassifier.pkl\")"
   ]
  },
  {
   "cell_type": "code",
   "execution_count": 21,
   "metadata": {
    "scrolled": true
   },
   "outputs": [
    {
     "name": "stderr",
     "output_type": "stream",
     "text": [
      "C:\\Users\\Big data\\Anaconda3\\lib\\site-packages\\sklearn\\model_selection\\_split.py:657: Warning: The least populated class in y has only 4 members, which is too few. The minimum number of members in any class cannot be less than n_splits=10.\n",
      "  % (min_groups, self.n_splits)), Warning)\n",
      "C:\\Users\\Big data\\Anaconda3\\lib\\site-packages\\sklearn\\model_selection\\_split.py:657: Warning: The least populated class in y has only 4 members, which is too few. The minimum number of members in any class cannot be less than n_splits=10.\n",
      "  % (min_groups, self.n_splits)), Warning)\n",
      "C:\\Users\\Big data\\Anaconda3\\lib\\site-packages\\sklearn\\model_selection\\_split.py:657: Warning: The least populated class in y has only 4 members, which is too few. The minimum number of members in any class cannot be less than n_splits=10.\n",
      "  % (min_groups, self.n_splits)), Warning)\n",
      "C:\\Users\\Big data\\Anaconda3\\lib\\site-packages\\sklearn\\model_selection\\_split.py:657: Warning: The least populated class in y has only 4 members, which is too few. The minimum number of members in any class cannot be less than n_splits=10.\n",
      "  % (min_groups, self.n_splits)), Warning)\n",
      "C:\\Users\\Big data\\Anaconda3\\lib\\site-packages\\sklearn\\model_selection\\_split.py:657: Warning: The least populated class in y has only 4 members, which is too few. The minimum number of members in any class cannot be less than n_splits=10.\n",
      "  % (min_groups, self.n_splits)), Warning)\n",
      "C:\\Users\\Big data\\Anaconda3\\lib\\site-packages\\sklearn\\model_selection\\_split.py:657: Warning: The least populated class in y has only 4 members, which is too few. The minimum number of members in any class cannot be less than n_splits=10.\n",
      "  % (min_groups, self.n_splits)), Warning)\n",
      "C:\\Users\\Big data\\Anaconda3\\lib\\site-packages\\sklearn\\model_selection\\_split.py:657: Warning: The least populated class in y has only 4 members, which is too few. The minimum number of members in any class cannot be less than n_splits=10.\n",
      "  % (min_groups, self.n_splits)), Warning)\n",
      "C:\\Users\\Big data\\Anaconda3\\lib\\site-packages\\sklearn\\model_selection\\_split.py:657: Warning: The least populated class in y has only 4 members, which is too few. The minimum number of members in any class cannot be less than n_splits=10.\n",
      "  % (min_groups, self.n_splits)), Warning)\n",
      "C:\\Users\\Big data\\Anaconda3\\lib\\site-packages\\sklearn\\model_selection\\_split.py:657: Warning: The least populated class in y has only 4 members, which is too few. The minimum number of members in any class cannot be less than n_splits=10.\n",
      "  % (min_groups, self.n_splits)), Warning)\n"
     ]
    },
    {
     "data": {
      "image/png": "[encoded data removed]",
      "text/plain": [
       "<Figure size 432x288 with 1 Axes>"
      ]
     },
     "metadata": {
      "needs_background": "light"
     },
     "output_type": "display_data"
    }
   ],
   "source": [
    "import matplotlib.pyplot as plt #可视化模块\n",
    "from sklearn.model_selection import cross_val_score\n",
    "#建立测试参数集\n",
    "k_range = range(1, 10) #測試參數\n",
    "k_scores = []\n",
    "#藉由迭代的方式来计算不同参数对模型的影响，并返回交叉验证后的平均准确率\n",
    "for k in k_range:\n",
    "    model = RandomForestClassifier(n_estimators=k)\n",
    "    #線性回歸問題評分\n",
    "    #loss = -cross_val_score(knn, X_train, Y_train, cv=10, scoring='mean_squared_error')#轉成負值\n",
    "    scores = cross_val_score(model, X_train, y_train, cv=10, scoring='accuracy')#分10組\n",
    "    k_scores.append(scores.mean()) #平均分數\n",
    "    #k_scores.append(loss.mean())\n",
    "#可视化数据\n",
    "plt.plot(k_range, k_scores) #x軸為測試參數數值 Y軸為參數對應模型評分\n",
    "plt.xlabel('Value of K for RandomForest')\n",
    "plt.ylabel('Cross-Validated Accuracy')\n",
    "plt.show()"
   ]
  },
  {
   "cell_type": "code",
   "execution_count": 22,
   "metadata": {},
   "outputs": [],
   "source": [
    "def cv_score(d):\n",
    "    clf = RandomForestClassifier(n_estimators=d)\n",
    "    clf.fit(X_train, y_train)\n",
    "    tr_score = clf.score(X_train, y_train)\n",
    "    cv_score = clf.score(X_test, y_test)\n",
    "    return (tr_score, cv_score)"
   ]
  },
  {
   "cell_type": "code",
   "execution_count": 23,
   "metadata": {},
   "outputs": [
    {
     "name": "stdout",
     "output_type": "stream",
     "text": [
      "best_param:3; best_score:1.000000\n"
     ]
    }
   ],
   "source": [
    "#交叉驗證最佳參數\n",
    "import numpy as np\n",
    "depths = range(1, 10)\n",
    "scores = [cv_score(d) for d in depths]\n",
    "tr_scores = [s[0] for s in scores]\n",
    "cv_scores = [s[1] for s in scores]\n",
    "\n",
    "best_score_index = np.argmax(cv_scores)\n",
    "best_score = cv_scores[best_score_index]\n",
    "best_param = depths[best_score_index]\n",
    "print('best_param:%d; best_score:%.6f'%(best_param,best_score))"
   ]
  },
  {
   "cell_type": "code",
   "execution_count": 24,
   "metadata": {},
   "outputs": [
    {
     "data": {
      "text/plain": [
       "<matplotlib.legend.Legend at 0x26370f91f28>"
      ]
     },
     "execution_count": 24,
     "metadata": {},
     "output_type": "execute_result"
    },
    {
     "data": {
      "image/png": "[encoded data removed]",
      "text/plain": [
       "<Figure size 864x576 with 1 Axes>"
      ]
     },
     "metadata": {
      "needs_background": "light"
     },
     "output_type": "display_data"
    }
   ],
   "source": [
    "#畫圖\n",
    "import matplotlib.pyplot as plt\n",
    "plt.figure(figsize=(6,4), dpi=144)\n",
    "plt.grid()\n",
    "plt.xlabel('max depth of decision tree')\n",
    "plt.ylabel('score')\n",
    "plt.plot(depths, cv_scores, '.g-', label='cv_score')\n",
    "plt.plot(depths, cv_scores, '.r--', label='train_score')\n",
    "plt.legend()"
   ]
  },
  {
   "cell_type": "code",
   "execution_count": 86,
   "metadata": {},
   "outputs": [
    {
     "data": {
      "text/plain": [
       "0.0"
      ]
     },
     "execution_count": 86,
     "metadata": {},
     "output_type": "execute_result"
    }
   ],
   "source": [
    "import numpy as np\n",
    "true = [1,2,3]\n",
    "pred = [1,2,3]\n",
    "def mean_absolute_percentage_error(y_true, y_pred): \n",
    "    y_true, y_pred = np.array(y_true), np.array(y_pred)\n",
    "    return np.mean(np.abs((y_true - y_pred) / y_true)) * 100\n",
    "\n",
    "mean_absolute_percentage_error(true, pred)"
   ]
  },
  {
   "cell_type": "code",
   "execution_count": null,
   "metadata": {},
   "outputs": [],
   "source": []
  }
 ],
 "metadata": {
  "kernelspec": {
   "display_name": "Python 3",
   "language": "python",
   "name": "python3"
  },
  "language_info": {
   "codemirror_mode": {
    "name": "ipython",
    "version": 3
   },
   "file_extension": ".py",
   "mimetype": "text/x-python",
   "name": "python",
   "nbconvert_exporter": "python",
   "pygments_lexer": "ipython3",
   "version": "3.7.3"
  }
 },
 "nbformat": 4,
 "nbformat_minor": 2
}
